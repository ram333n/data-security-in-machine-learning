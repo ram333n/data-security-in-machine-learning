{
 "cells": [
  {
   "cell_type": "code",
   "id": "initial_id",
   "metadata": {
    "collapsed": true,
    "ExecuteTime": {
     "end_time": "2025-09-21T10:38:32.707092Z",
     "start_time": "2025-09-21T10:38:23.856583Z"
    }
   },
   "source": [
    "import os\n",
    "\n",
    "import torch\n",
    "import pytorch_lightning as pl\n",
    "from pytorch_lightning.callbacks import ModelCheckpoint\n",
    "from torch import nn\n",
    "from torch.utils.data import random_split, Subset, DataLoader\n",
    "from torchmetrics import Metric\n",
    "\n",
    "from torchvision import models, datasets, transforms\n",
    "from tqdm import tqdm"
   ],
   "outputs": [],
   "execution_count": 1
  },
  {
   "metadata": {
    "ExecuteTime": {
     "end_time": "2025-09-21T10:38:34.732253Z",
     "start_time": "2025-09-21T10:38:34.710389Z"
    }
   },
   "cell_type": "code",
   "source": [
    "class ImageNet10DataModule(pl.LightningDataModule):\n",
    "    def __init__(\n",
    "        self,\n",
    "        dataset_dir=os.path.join(\".\", \"imagenet-10-dataset\"),\n",
    "        batch_size=16,\n",
    "        num_workers=4,\n",
    "        train_test_split=0.8\n",
    "    ):\n",
    "        super(ImageNet10DataModule, self).__init__()\n",
    "        self.dataset_dir = dataset_dir\n",
    "        self.batch_size = batch_size\n",
    "        self.num_workers = num_workers\n",
    "        self.train_test_split = train_test_split\n",
    "        \n",
    "    def setup(self, stage=None):\n",
    "        self.train_transforms = transforms.Compose([\n",
    "            transforms.Resize((256, 256)),\n",
    "            transforms.RandomCrop(240),\n",
    "            transforms.RandomHorizontalFlip(),\n",
    "            transforms.ToTensor(),\n",
    "            transforms.Normalize(mean=[0.485, 0.456, 0.406], std=[0.229, 0.224, 0.225])\n",
    "        ])\n",
    "        \n",
    "        self.test_transforms = transforms.Compose([\n",
    "            transforms.Resize((240, 240)),\n",
    "            transforms.ToTensor(),\n",
    "            transforms.Normalize(mean=[0.485, 0.456, 0.406], std=[0.229, 0.224, 0.225])\n",
    "        ])\n",
    "        \n",
    "        full_dataset = datasets.ImageFolder(root=self.dataset_dir)\n",
    "        \n",
    "        n_total = len(full_dataset)\n",
    "        n_train = int(self.train_test_split * n_total)\n",
    "        n_test = n_total - n_train\n",
    "        \n",
    "        train_subset, test_subset = random_split(full_dataset, [n_train, n_test])\n",
    "\n",
    "        train_indices = train_subset.indices\n",
    "        test_indices = test_subset.indices\n",
    "\n",
    "        train_dataset = datasets.ImageFolder(root=self.dataset_dir, transform=self.train_transforms)\n",
    "        test_dataset = datasets.ImageFolder(root=self.dataset_dir, transform=self.test_transforms)\n",
    "\n",
    "        self.train_dataset = Subset(train_dataset, train_indices)\n",
    "        self.test_dataset = Subset(test_dataset, test_indices)\n",
    "\n",
    "    def train_dataloader(self):\n",
    "        return DataLoader(\n",
    "            self.train_dataset,\n",
    "            batch_size=self.batch_size,\n",
    "            shuffle=True,\n",
    "            num_workers=self.num_workers,\n",
    "            persistent_workers=True,\n",
    "            pin_memory=True\n",
    "        )\n",
    "\n",
    "    def val_dataloader(self):\n",
    "        return DataLoader(\n",
    "            self.test_dataset,\n",
    "            batch_size=self.batch_size,\n",
    "            shuffle=False,\n",
    "            num_workers=self.num_workers,\n",
    "            persistent_workers=True,\n",
    "            pin_memory=True\n",
    "        )\n",
    "    \n",
    "    def test_dataloader(self):\n",
    "        return DataLoader(\n",
    "            self.test_dataset,\n",
    "            batch_size=self.batch_size,\n",
    "            shuffle=False,\n",
    "            num_workers=self.num_workers,\n",
    "            persistent_workers=True,\n",
    "            pin_memory=True\n",
    "        )"
   ],
   "id": "a5331bb2319d727",
   "outputs": [],
   "execution_count": 2
  },
  {
   "metadata": {
    "ExecuteTime": {
     "end_time": "2025-09-21T10:38:35.539757Z",
     "start_time": "2025-09-21T10:38:35.521287Z"
    }
   },
   "cell_type": "code",
   "source": [
    "class EfficientNetLightningModel(pl.LightningModule):\n",
    "    def __init__(self, n_classes=10):\n",
    "        super(EfficientNetLightningModel, self).__init__()\n",
    "        self.model = models.efficientnet_b1(weights=models.EfficientNet_B1_Weights.IMAGENET1K_V2)\n",
    "        self.model.classifier[1] = nn.Linear(self.model.classifier[1].in_features, n_classes)\n",
    "        self.criterion = nn.CrossEntropyLoss()\n",
    "        \n",
    "    def forward(self, x):\n",
    "        return self.model(x)\n",
    "\n",
    "    def training_step(self, batch, batch_idx):\n",
    "        inputs, labels = batch\n",
    "        logits = self(inputs)\n",
    "        loss = self.criterion(logits, labels)\n",
    "        self.log(\"train_loss\", loss, on_step=True, on_epoch=True, prog_bar=True, logger=True)\n",
    "        \n",
    "        return loss\n",
    "    \n",
    "    def validation_step(self, batch, batch_idx):\n",
    "        images, labels = batch\n",
    "        logits = self(images)\n",
    "        loss = self.criterion(logits, labels)\n",
    "        predictions = torch.argmax(logits, dim=1)\n",
    "        acc = torch.sum(predictions == labels.data).item() / len(labels)\n",
    "\n",
    "        self.log(\"val_loss\", loss, prog_bar=True)\n",
    "        self.log(\"val_acc\", acc, prog_bar=True)\n",
    "        \n",
    "        return loss\n",
    "\n",
    "    def configure_optimizers(self):\n",
    "        return torch.optim.Adam(self.parameters(), lr=1e-3)"
   ],
   "id": "117f2621d2298ac5",
   "outputs": [],
   "execution_count": 3
  },
  {
   "metadata": {
    "ExecuteTime": {
     "end_time": "2025-09-20T13:06:11.513532Z",
     "start_time": "2025-09-20T13:06:11.350673Z"
    }
   },
   "cell_type": "code",
   "source": "model = EfficientNetLightningModel()",
   "id": "3212b946de4518f",
   "outputs": [],
   "execution_count": 157
  },
  {
   "metadata": {
    "ExecuteTime": {
     "end_time": "2025-09-20T13:06:12.239855Z",
     "start_time": "2025-09-20T13:06:12.236635Z"
    }
   },
   "cell_type": "code",
   "source": "data_module = ImageNet10DataModule()",
   "id": "3052af99f46e5411",
   "outputs": [],
   "execution_count": 158
  },
  {
   "metadata": {},
   "cell_type": "code",
   "source": [
    "checkpoint_callback = ModelCheckpoint(\n",
    "    monitor=\"val_loss\",\n",
    "    dirpath=\"./checkpoints\",\n",
    "    filename=\"best-checkpoint\",\n",
    "    save_top_k=1,\n",
    "    mode=\"min\"\n",
    ")\n",
    "\n",
    "trainer = pl.Trainer(\n",
    "    max_epochs=25,\n",
    "    devices=1,\n",
    "    accelerator=\"gpu\",\n",
    "    callbacks=[checkpoint_callback]\n",
    ")\n",
    "\n",
    "trainer.fit(model, data_module)"
   ],
   "id": "573ebe3572177c00",
   "outputs": [],
   "execution_count": null
  },
  {
   "metadata": {
    "ExecuteTime": {
     "end_time": "2025-09-21T10:39:00.671552Z",
     "start_time": "2025-09-21T10:38:59.488967Z"
    }
   },
   "cell_type": "code",
   "source": [
    "best_model = EfficientNetLightningModel.load_from_checkpoint(\"./checkpoints/best-checkpoint-v1.ckpt\")\n",
    "best_model = best_model.to(\"cuda\")"
   ],
   "id": "c0cb00dfaf33c41f",
   "outputs": [],
   "execution_count": 6
  },
  {
   "metadata": {},
   "cell_type": "code",
   "source": "best_model.eval()",
   "id": "4866e4fe3a285295",
   "outputs": [],
   "execution_count": null
  },
  {
   "metadata": {
    "ExecuteTime": {
     "end_time": "2025-09-20T13:52:09.665806Z",
     "start_time": "2025-09-20T13:51:49.827801Z"
    }
   },
   "cell_type": "code",
   "source": "trainer.validate(best_model, data_module)",
   "id": "f480beba8da82044",
   "outputs": [
    {
     "name": "stderr",
     "output_type": "stream",
     "text": [
      "LOCAL_RANK: 0 - CUDA_VISIBLE_DEVICES: [0]\n",
      "C:\\Data\\University\\master\\master_2_year_sem_1\\data-security-in-machine-learning\\.venv\\lib\\site-packages\\pytorch_lightning\\trainer\\connectors\\data_connector.py:433: The 'val_dataloader' does not have many workers which may be a bottleneck. Consider increasing the value of the `num_workers` argument` to `num_workers=15` in the `DataLoader` to improve performance.\n"
     ]
    },
    {
     "name": "stdout",
     "output_type": "stream",
     "text": [
      "Validation DataLoader 0: 100%|██████████| 163/163 [00:13<00:00, 11.86it/s]\n",
      "────────────────────────────────────────────────────────────────────────────────────────────────────────────────────────\r\n",
      "     Validate metric           DataLoader 0\r\n",
      "────────────────────────────────────────────────────────────────────────────────────────────────────────────────────────\r\n",
      "         val_acc            0.9923076629638672\r\n",
      "        val_loss           0.027110787108540535\r\n",
      "────────────────────────────────────────────────────────────────────────────────────────────────────────────────────────\n"
     ]
    },
    {
     "data": {
      "text/plain": [
       "[{'val_loss': 0.027110787108540535, 'val_acc': 0.9923076629638672}]"
      ]
     },
     "execution_count": 205,
     "metadata": {},
     "output_type": "execute_result"
    }
   ],
   "execution_count": 205
  },
  {
   "metadata": {},
   "cell_type": "markdown",
   "source": "# FGSM Attack",
   "id": "52d3f4ebad3c517d"
  },
  {
   "metadata": {
    "ExecuteTime": {
     "end_time": "2025-09-21T10:38:42.022432Z",
     "start_time": "2025-09-21T10:38:42.012983Z"
    }
   },
   "cell_type": "code",
   "source": [
    "def fgsm_attack(image, epsilon, grad):\n",
    "    perturbed_image = image + epsilon * grad.sign()\n",
    "    return torch.clamp(perturbed_image, -2.5, 2.5)"
   ],
   "id": "fedbca3e6981662a",
   "outputs": [],
   "execution_count": 4
  },
  {
   "metadata": {
    "ExecuteTime": {
     "end_time": "2025-09-21T10:38:42.786141Z",
     "start_time": "2025-09-21T10:38:42.779138Z"
    }
   },
   "cell_type": "code",
   "source": [
    "class Accuracy(Metric):\n",
    "    def __init__(self):\n",
    "        super().__init__()\n",
    "        self.add_state(\"correct\", default=torch.tensor(0), dist_reduce_fx=\"sum\")\n",
    "        self.add_state(\"total\", default=torch.tensor(0), dist_reduce_fx=\"sum\")\n",
    "\n",
    "    @torch.no_grad()\n",
    "    def update(self, preds, target):\n",
    "        preds = torch.argmax(preds, dim=1)\n",
    "        self.correct += torch.sum(preds == target).cpu()\n",
    "        self.total += target.size(0)\n",
    "\n",
    "    def compute(self):\n",
    "        return self.correct.float() / self.total.float()\n",
    "\n",
    "    def reset(self):\n",
    "        self.correct = torch.tensor(0)\n",
    "        self.total = torch.tensor(0)"
   ],
   "id": "5f33b328a0828915",
   "outputs": [],
   "execution_count": 5
  },
  {
   "metadata": {
    "ExecuteTime": {
     "end_time": "2025-09-21T10:44:12.520569Z",
     "start_time": "2025-09-21T10:44:12.345027Z"
    }
   },
   "cell_type": "code",
   "source": [
    "fgsm_data_module = ImageNet10DataModule()\n",
    "fgsm_data_module.setup()\n",
    "fgsm_dataloader = fgsm_data_module.val_dataloader()"
   ],
   "id": "8df3587cdde4e17f",
   "outputs": [],
   "execution_count": 10
  },
  {
   "metadata": {
    "ExecuteTime": {
     "end_time": "2025-09-21T10:41:49.067765Z",
     "start_time": "2025-09-21T10:41:49.057425Z"
    }
   },
   "cell_type": "code",
   "source": [
    "def launch_fgsm_attack(model_to_attack, eps_range, data_loader):\n",
    "    accuracy = Accuracy()\n",
    "    model_to_attack.eval()\n",
    "    \n",
    "    for eps in eps_range:\n",
    "        accuracy.reset()\n",
    "        total_loss = 0\n",
    "        \n",
    "        with torch.amp.autocast(\"cuda\"):\n",
    "            for data, target in tqdm(data_loader):\n",
    "                data, target = data.to(\"cuda\"), target.to(\"cuda\")\n",
    "                data.requires_grad = True\n",
    "                \n",
    "                output = model_to_attack(data)\n",
    "                loss = nn.functional.cross_entropy(output, target)\n",
    "                model_to_attack.zero_grad()\n",
    "                loss.backward()\n",
    "                \n",
    "                data_grad = data.grad.data\n",
    "                perturbed_data = fgsm_attack(data, eps, data_grad)\n",
    "        \n",
    "                with torch.no_grad():\n",
    "                    output = model_to_attack(perturbed_data)\n",
    "                    total_loss += nn.functional.cross_entropy(output, target).item()\n",
    "                    accuracy.update(output, target)\n",
    "                \n",
    "            print(f\"Accuracy for epsilon {eps:.2f}: {accuracy.compute()}, loss: {total_loss/len(data_loader)}\")"
   ],
   "id": "437c059487577d7d",
   "outputs": [],
   "execution_count": 8
  },
  {
   "metadata": {
    "ExecuteTime": {
     "end_time": "2025-09-20T15:09:34.536207Z",
     "start_time": "2025-09-20T14:08:08.663137Z"
    }
   },
   "cell_type": "code",
   "source": "launch_fgsm_attack(best_model, torch.arange(0.0, 0.5, 0.05), fgsm_dataloader)",
   "id": "93874c24155a49a5",
   "outputs": [
    {
     "name": "stderr",
     "output_type": "stream",
     "text": [
      "100%|██████████| 163/163 [06:29<00:00,  2.39s/it]\n"
     ]
    },
    {
     "name": "stdout",
     "output_type": "stream",
     "text": [
      "Accuracy for epsilon 0.00: 0.9896153807640076, 0.03474518697868827\n"
     ]
    },
    {
     "name": "stderr",
     "output_type": "stream",
     "text": [
      "100%|██████████| 163/163 [06:12<00:00,  2.28s/it]\n"
     ]
    },
    {
     "name": "stdout",
     "output_type": "stream",
     "text": [
      "Accuracy for epsilon 0.05: 0.885769248008728, 0.9380737367126107\n"
     ]
    },
    {
     "name": "stderr",
     "output_type": "stream",
     "text": [
      "100%|██████████| 163/163 [06:08<00:00,  2.26s/it]\n"
     ]
    },
    {
     "name": "stdout",
     "output_type": "stream",
     "text": [
      "Accuracy for epsilon 0.10: 0.8853846192359924, 0.8899012136221663\n"
     ]
    },
    {
     "name": "stderr",
     "output_type": "stream",
     "text": [
      "100%|██████████| 163/163 [06:10<00:00,  2.27s/it]\n"
     ]
    },
    {
     "name": "stdout",
     "output_type": "stream",
     "text": [
      "Accuracy for epsilon 0.15: 0.885769248008728, 0.8262286912535597\n"
     ]
    },
    {
     "name": "stderr",
     "output_type": "stream",
     "text": [
      "100%|██████████| 163/163 [06:17<00:00,  2.31s/it]\n"
     ]
    },
    {
     "name": "stdout",
     "output_type": "stream",
     "text": [
      "Accuracy for epsilon 0.20: 0.8876923322677612, 0.7642550312119759\n"
     ]
    },
    {
     "name": "stderr",
     "output_type": "stream",
     "text": [
      "100%|██████████| 163/163 [06:12<00:00,  2.29s/it]\n"
     ]
    },
    {
     "name": "stdout",
     "output_type": "stream",
     "text": [
      "Accuracy for epsilon 0.25: 0.8873077034950256, 0.71040010776805\n"
     ]
    },
    {
     "name": "stderr",
     "output_type": "stream",
     "text": [
      "100%|██████████| 163/163 [06:10<00:00,  2.27s/it]\n"
     ]
    },
    {
     "name": "stdout",
     "output_type": "stream",
     "text": [
      "Accuracy for epsilon 0.30: 0.8846153616905212, 0.6685156404880658\n"
     ]
    },
    {
     "name": "stderr",
     "output_type": "stream",
     "text": [
      "100%|██████████| 163/163 [06:15<00:00,  2.30s/it]\n"
     ]
    },
    {
     "name": "stdout",
     "output_type": "stream",
     "text": [
      "Accuracy for epsilon 0.35: 0.8834615349769592, 0.6365417743021725\n"
     ]
    },
    {
     "name": "stderr",
     "output_type": "stream",
     "text": [
      "100%|██████████| 163/163 [05:43<00:00,  2.11s/it]\n"
     ]
    },
    {
     "name": "stdout",
     "output_type": "stream",
     "text": [
      "Accuracy for epsilon 0.40: 0.8819230794906616, 0.6123185606181987\n"
     ]
    },
    {
     "name": "stderr",
     "output_type": "stream",
     "text": [
      "100%|██████████| 163/163 [05:45<00:00,  2.12s/it]"
     ]
    },
    {
     "name": "stdout",
     "output_type": "stream",
     "text": [
      "Accuracy for epsilon 0.45: 0.8826923370361328, 0.5935469628568807\n"
     ]
    },
    {
     "name": "stderr",
     "output_type": "stream",
     "text": [
      "\n"
     ]
    }
   ],
   "execution_count": 227
  },
  {
   "metadata": {
    "ExecuteTime": {
     "end_time": "2025-09-21T10:51:40.772154Z",
     "start_time": "2025-09-21T10:44:16.153013Z"
    }
   },
   "cell_type": "code",
   "source": "launch_fgsm_attack(best_model, torch.arange(0.1, 0.3, 0.1), fgsm_dataloader)",
   "id": "7b2d38d4e23ec14b",
   "outputs": [
    {
     "name": "stderr",
     "output_type": "stream",
     "text": [
      "100%|██████████| 163/163 [02:11<00:00,  1.24it/s]\n"
     ]
    },
    {
     "name": "stdout",
     "output_type": "stream",
     "text": [
      "Accuracy for epsilon 0.10: 0.8876923322677612, 0.8727266201578034\n"
     ]
    },
    {
     "name": "stderr",
     "output_type": "stream",
     "text": [
      "100%|██████████| 163/163 [05:13<00:00,  1.92s/it]"
     ]
    },
    {
     "name": "stdout",
     "output_type": "stream",
     "text": [
      "Accuracy for epsilon 0.20: 0.8888461589813232, 0.7428377648255576\n"
     ]
    },
    {
     "name": "stderr",
     "output_type": "stream",
     "text": [
      "\n"
     ]
    }
   ],
   "execution_count": 11
  },
  {
   "metadata": {},
   "cell_type": "code",
   "outputs": [],
   "execution_count": null,
   "source": "",
   "id": "fa52209b2c04c1fd"
  }
 ],
 "metadata": {
  "kernelspec": {
   "display_name": "Python 3",
   "language": "python",
   "name": "python3"
  },
  "language_info": {
   "codemirror_mode": {
    "name": "ipython",
    "version": 2
   },
   "file_extension": ".py",
   "mimetype": "text/x-python",
   "name": "python",
   "nbconvert_exporter": "python",
   "pygments_lexer": "ipython2",
   "version": "2.7.6"
  }
 },
 "nbformat": 4,
 "nbformat_minor": 5
}
