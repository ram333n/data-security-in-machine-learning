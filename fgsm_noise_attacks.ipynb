{
 "cells": [
  {
   "cell_type": "code",
   "id": "initial_id",
   "metadata": {
    "collapsed": true,
    "ExecuteTime": {
     "end_time": "2025-09-18T19:34:10.163490Z",
     "start_time": "2025-09-18T19:34:10.153384Z"
    }
   },
   "source": [
    "import os\n",
    "\n",
    "import torch\n",
    "import pytorch_lightning as pl\n",
    "from torch import nn\n",
    "\n",
    "from torchvision import models"
   ],
   "outputs": [],
   "execution_count": 19
  },
  {
   "metadata": {
    "ExecuteTime": {
     "end_time": "2025-09-18T19:28:34.177424Z",
     "start_time": "2025-09-18T19:28:34.159894Z"
    }
   },
   "cell_type": "code",
   "source": [
    "class ImageNet10DataModule(pl.LightningDataModule):\n",
    "    def __init__(self, batch_size=32, path=os.path.join('.', 'imagenet-10-dataset')):\n",
    "        super(ImageNet10DataModule, self).__init__()\n",
    "        self.batch_size = batch_size"
   ],
   "id": "a5331bb2319d727",
   "outputs": [],
   "execution_count": 18
  },
  {
   "metadata": {
    "ExecuteTime": {
     "end_time": "2025-09-18T19:24:14.543184Z",
     "start_time": "2025-09-18T19:24:14.532857Z"
    }
   },
   "cell_type": "code",
   "source": [
    "class EfficientNetLightningModel(pl.LightningModule):\n",
    "    def __init__(self, n_classes=10):\n",
    "        super(EfficientNetLightningModel, self).__init__()\n",
    "        self.model = models.efficientnet_b1(weights=models.EfficientNet_B1_Weights.IMAGENET1K_V2)\n",
    "        self.model.classifier[1] = nn.Linear(self.model.classifier[1].in_features, n_classes)\n",
    "        self.criterion = nn.CrossEntropyLoss()\n",
    "        \n",
    "    def forward(self, x):\n",
    "        return self.model(x)\n",
    "\n",
    "    def training_step(self, batch, batch_idx):\n",
    "        inputs, labels = batch\n",
    "        logits = self(inputs)\n",
    "        loss = self.criterion(logits, labels)\n",
    "        self.log('train_loss', loss, on_step=True, on_epoch=True, prog_bar=True, logger=True)\n",
    "        \n",
    "        return loss\n",
    "    \n",
    "    def validation_step(self, batch, batch_idx):\n",
    "        images, labels = batch\n",
    "        logits = self(images)\n",
    "        loss = self.criterion(logits, labels)\n",
    "        predictions = torch.argmax(logits, dim=1)\n",
    "        acc = torch.sum(predictions == labels.data).item() / len(labels)\n",
    "\n",
    "        self.log(\"val_loss\", loss, prog_bar=True)\n",
    "        self.log(\"val_acc\", acc, prog_bar=True)\n",
    "        \n",
    "        return loss\n",
    "\n",
    "    def configure_optimizers(self):\n",
    "        return torch.optim.Adam(self.parameters(), lr=1e-3)"
   ],
   "id": "117f2621d2298ac5",
   "outputs": [],
   "execution_count": 12
  },
  {
   "metadata": {
    "ExecuteTime": {
     "end_time": "2025-09-18T19:24:15.443888Z",
     "start_time": "2025-09-18T19:24:15.301052Z"
    }
   },
   "cell_type": "code",
   "source": "model = EfficientNetLightningModel()",
   "id": "3212b946de4518f",
   "outputs": [],
   "execution_count": 13
  },
  {
   "metadata": {},
   "cell_type": "code",
   "outputs": [],
   "execution_count": null,
   "source": "",
   "id": "3052af99f46e5411"
  }
 ],
 "metadata": {
  "kernelspec": {
   "display_name": "Python 3",
   "language": "python",
   "name": "python3"
  },
  "language_info": {
   "codemirror_mode": {
    "name": "ipython",
    "version": 2
   },
   "file_extension": ".py",
   "mimetype": "text/x-python",
   "name": "python",
   "nbconvert_exporter": "python",
   "pygments_lexer": "ipython2",
   "version": "2.7.6"
  }
 },
 "nbformat": 4,
 "nbformat_minor": 5
}
